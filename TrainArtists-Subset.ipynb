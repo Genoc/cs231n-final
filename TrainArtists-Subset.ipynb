{
 "cells": [
  {
   "cell_type": "markdown",
   "metadata": {},
   "source": [
    "# Pull all data and fit on it - classify artists"
   ]
  },
  {
   "cell_type": "code",
   "execution_count": 1,
   "metadata": {
    "collapsed": false
   },
   "outputs": [
    {
     "name": "stdout",
     "output_type": "stream",
     "text": [
      "<class 'torch.LongTensor'>\n",
      "<class 'torch.cuda.FloatTensor'>\n"
     ]
    }
   ],
   "source": [
    "import torch\n",
    "import torch.nn as nn\n",
    "import torch.optim as optim\n",
    "from torch.autograd import Variable\n",
    "from torch.utils.data import DataLoader\n",
    "from torch.utils.data import sampler\n",
    "from torch.utils.data import TensorDataset\n",
    "\n",
    "import torchvision.datasets as dset\n",
    "import torchvision.models as models\n",
    "import torchvision.transforms as T\n",
    "\n",
    "import numpy as np\n",
    "import timeit\n",
    "\n",
    "dtype = torch.FloatTensor\n",
    "ytype = torch.LongTensor\n",
    "if (torch.cuda.is_available()):\n",
    "   dtype = torch.cuda.FloatTensor\n",
    "print(ytype)\n",
    "print(dtype)\n",
    "print_every = 20\n",
    "\n",
    "    \n",
    "class Flatten(nn.Module):\n",
    "    def forward(self, x):\n",
    "        N, C, H, W = x.size() # read in N, C, H, W\n",
    "        return x.view(N, -1)  # \"flatten\" the C * H * W values into a single vector per image\n",
    "    \n",
    "def reset(m):\n",
    "    if hasattr(m, 'reset_parameters'):\n",
    "        m.reset_parameters()\n",
    "\n",
    "def train(model, loss_fn, optimizer, loader_train, loader_val, num_epochs = 1):\n",
    "    # train_loss_hist = []\n",
    "    train_acc_hist = []\n",
    "    # val_loss_hist = []\n",
    "    val_acc_hist = []\n",
    "    for epoch in range(num_epochs):\n",
    "        print('Starting epoch %d / %d' % (epoch + 1, num_epochs))\n",
    "        model.train()\n",
    "        for t, (x, y) in enumerate(loader_train):\n",
    "            x_var = Variable(x.type(dtype))\n",
    "            y_var = Variable(y.type(dtype).long())\n",
    "            scores = model(x_var)\n",
    "            loss = loss_fn(scores, y_var)\n",
    "            if (t + 1) % print_every == 0:\n",
    "                print('t = %d, loss = %.4f' % (t + 1, loss.data[0]))\n",
    "            optimizer.zero_grad()\n",
    "            loss.backward()\n",
    "            optimizer.step()\n",
    "        # record training and validation accuracy at the end of each epoch\n",
    "        train_acc_hist.append(check_accuracy(model, loader_train))\n",
    "        val_acc_hist.append(check_accuracy(model, loader_val))\n",
    "        \n",
    "    return [train_acc_hist, val_acc_hist]\n",
    "    \n",
    "def check_accuracy(model, loader):\n",
    "    print('Checking accuracy!')\n",
    "    num_correct = 0\n",
    "    num_samples = 0\n",
    "    model.eval() # Put the model in test mode (the opposite of model.train(), essentially)\n",
    "    for x, y in loader:\n",
    "        y = y.view(-1, 1).type(ytype)\n",
    "        x_var = Variable(x.type(dtype), volatile=True)\n",
    "        scores = model(x_var)\n",
    "        _, preds = scores.data.cpu().max(1)\n",
    "        \n",
    "        num_correct += (preds == y).sum()\n",
    "        num_samples += preds.size(0)\n",
    "    acc = float(num_correct) / num_samples\n",
    "    print('Got %d / %d correct (%.2f)' % (num_correct, num_samples, 100 * acc))\n",
    "    return 100*acc"
   ]
  },
  {
   "cell_type": "markdown",
   "metadata": {},
   "source": [
    "# Prep the data"
   ]
  },
  {
   "cell_type": "code",
   "execution_count": 2,
   "metadata": {
    "collapsed": true
   },
   "outputs": [],
   "source": [
    "## ALL MAIN ARGUMENTS FOR THE SCRIPT ##\n",
    "\n",
    "dat_folder = '../data/'\n",
    "# img_folder = '../data/train_1/'\n",
    "img_folder = '../data/images/'\n",
    "\n",
    "filter_subset = True # True if we want to filter to just train _1\n",
    "\n",
    "## THIS VERSION OF SCRIPT HAS EQUAL NUMBER OF PAINTINGS PER ARTIST\n",
    "num_train = 40\n",
    "num_val = 10\n",
    "num_samples = num_train + num_val # threshold to include an artist\n",
    "b_size = 5 # batch size for the data loaders\n"
   ]
  },
  {
   "cell_type": "code",
   "execution_count": 3,
   "metadata": {
    "collapsed": false
   },
   "outputs": [
    {
     "data": {
      "text/html": [
       "<div>\n",
       "<style>\n",
       "    .dataframe thead tr:only-child th {\n",
       "        text-align: right;\n",
       "    }\n",
       "\n",
       "    .dataframe thead th {\n",
       "        text-align: left;\n",
       "    }\n",
       "\n",
       "    .dataframe tbody tr th {\n",
       "        vertical-align: top;\n",
       "    }\n",
       "</style>\n",
       "<table border=\"1\" class=\"dataframe\">\n",
       "  <thead>\n",
       "    <tr style=\"text-align: right;\">\n",
       "      <th></th>\n",
       "      <th>artist</th>\n",
       "      <th>date</th>\n",
       "      <th>genre</th>\n",
       "      <th>pixelsx</th>\n",
       "      <th>pixelsy</th>\n",
       "      <th>size_bytes</th>\n",
       "      <th>source</th>\n",
       "      <th>style</th>\n",
       "      <th>title</th>\n",
       "      <th>artist_group</th>\n",
       "      <th>in_train</th>\n",
       "      <th>new_filename</th>\n",
       "    </tr>\n",
       "  </thead>\n",
       "  <tbody>\n",
       "    <tr>\n",
       "      <th>0</th>\n",
       "      <td>Barnett Newman</td>\n",
       "      <td>1955.0</td>\n",
       "      <td>abstract</td>\n",
       "      <td>15530.0</td>\n",
       "      <td>6911.0</td>\n",
       "      <td>9201912.0</td>\n",
       "      <td>wikiart</td>\n",
       "      <td>Color Field Painting</td>\n",
       "      <td>Uriel</td>\n",
       "      <td>train_only</td>\n",
       "      <td>True</td>\n",
       "      <td>102257.jpg</td>\n",
       "    </tr>\n",
       "    <tr>\n",
       "      <th>23</th>\n",
       "      <td>Jan van Eyck</td>\n",
       "      <td>1439</td>\n",
       "      <td>religious painting</td>\n",
       "      <td>4000.0</td>\n",
       "      <td>8311.0</td>\n",
       "      <td>28783029.0</td>\n",
       "      <td>wikiart</td>\n",
       "      <td>Northern Renaissance</td>\n",
       "      <td>The Madonna in the Church</td>\n",
       "      <td>train_and_test</td>\n",
       "      <td>True</td>\n",
       "      <td>16876.jpg</td>\n",
       "    </tr>\n",
       "    <tr>\n",
       "      <th>42</th>\n",
       "      <td>Thomas Gainsborough</td>\n",
       "      <td>1783</td>\n",
       "      <td>landscape</td>\n",
       "      <td>5712.0</td>\n",
       "      <td>4704.0</td>\n",
       "      <td>11791905.0</td>\n",
       "      <td>wikiart</td>\n",
       "      <td>Rococo</td>\n",
       "      <td>The Mall in St. James's Park</td>\n",
       "      <td>train_and_test</td>\n",
       "      <td>True</td>\n",
       "      <td>1164.jpg</td>\n",
       "    </tr>\n",
       "    <tr>\n",
       "      <th>46</th>\n",
       "      <td>Lyonel Feininger</td>\n",
       "      <td>1926.0</td>\n",
       "      <td>cityscape</td>\n",
       "      <td>4472.0</td>\n",
       "      <td>5894.0</td>\n",
       "      <td>7382419.0</td>\n",
       "      <td>wikiart</td>\n",
       "      <td>Cubism</td>\n",
       "      <td>Gelmeroda IX</td>\n",
       "      <td>train_only</td>\n",
       "      <td>True</td>\n",
       "      <td>19385.jpg</td>\n",
       "    </tr>\n",
       "    <tr>\n",
       "      <th>74</th>\n",
       "      <td>Henri de Toulouse-Lautrec</td>\n",
       "      <td>1895</td>\n",
       "      <td>genre painting</td>\n",
       "      <td>5833.0</td>\n",
       "      <td>3985.0</td>\n",
       "      <td>3389831.0</td>\n",
       "      <td>wikiart</td>\n",
       "      <td>Post-Impressionism</td>\n",
       "      <td>Abandonment (The pair)</td>\n",
       "      <td>train_and_test</td>\n",
       "      <td>True</td>\n",
       "      <td>17354.jpg</td>\n",
       "    </tr>\n",
       "  </tbody>\n",
       "</table>\n",
       "</div>"
      ],
      "text/plain": [
       "                       artist    date               genre  pixelsx  pixelsy  \\\n",
       "0              Barnett Newman  1955.0            abstract  15530.0   6911.0   \n",
       "23               Jan van Eyck    1439  religious painting   4000.0   8311.0   \n",
       "42        Thomas Gainsborough    1783           landscape   5712.0   4704.0   \n",
       "46           Lyonel Feininger  1926.0           cityscape   4472.0   5894.0   \n",
       "74  Henri de Toulouse-Lautrec    1895      genre painting   5833.0   3985.0   \n",
       "\n",
       "    size_bytes   source                 style                         title  \\\n",
       "0    9201912.0  wikiart  Color Field Painting                         Uriel   \n",
       "23  28783029.0  wikiart  Northern Renaissance     The Madonna in the Church   \n",
       "42  11791905.0  wikiart                Rococo  The Mall in St. James's Park   \n",
       "46   7382419.0  wikiart                Cubism                 Gelmeroda IX    \n",
       "74   3389831.0  wikiart    Post-Impressionism        Abandonment (The pair)   \n",
       "\n",
       "      artist_group  in_train new_filename  \n",
       "0       train_only      True   102257.jpg  \n",
       "23  train_and_test      True    16876.jpg  \n",
       "42  train_and_test      True     1164.jpg  \n",
       "46      train_only      True    19385.jpg  \n",
       "74  train_and_test      True    17354.jpg  "
      ]
     },
     "execution_count": 3,
     "metadata": {},
     "output_type": "execute_result"
    }
   ],
   "source": [
    "import numpy as np\n",
    "import pandas as pd\n",
    "import matplotlib.pyplot as plt\n",
    "%matplotlib inline\n",
    "from PIL import Image, ImageFilter\n",
    "import random\n",
    "import cv2\n",
    "import os, glob\n",
    "\n",
    "t = pd.read_csv(dat_folder + 'all_data_info.csv')\n",
    "\n",
    "# filter down (if needed)\n",
    "if (filter_subset):\n",
    "    t = t[t['new_filename'].str.startswith('1')]\n",
    "    t = t[t['in_train']]\n",
    "\n",
    "t.head()\n",
    "# print(t.shape)"
   ]
  },
  {
   "cell_type": "code",
   "execution_count": 4,
   "metadata": {
    "collapsed": false,
    "scrolled": true
   },
   "outputs": [],
   "source": [
    "x = list(t['artist'].value_counts())"
   ]
  },
  {
   "cell_type": "code",
   "execution_count": 5,
   "metadata": {
    "collapsed": false
   },
   "outputs": [
    {
     "name": "stdout",
     "output_type": "stream",
     "text": [
      "24 artists being classified\n",
      "(960, 13)\n",
      "(240, 13)\n",
      "Done\n"
     ]
    }
   ],
   "source": [
    "# list of all artists to include\n",
    "temp = t['artist'].value_counts()\n",
    "threshold = num_samples\n",
    "artists = temp[temp >= threshold].index.tolist()\n",
    "num_artists = len(artists)\n",
    "\n",
    "print(str(len(artists)) + ' artists being classified')\n",
    "\n",
    "# pull train and val data for just those artists\n",
    "train_dfs = []\n",
    "val_dfs = []\n",
    "\n",
    "for a in artists:\n",
    "    df = t[t['artist'].str.startswith(a, na=False)].sample(n=num_samples)\n",
    "    t_df = df.sample(n=num_train)\n",
    "    v_df = df.loc[~df.index.isin(t_df.index)]\n",
    "    \n",
    "    train_dfs.append(t_df)\n",
    "    val_dfs.append(v_df)\n",
    "\n",
    "train_df = pd.concat(train_dfs)\n",
    "val_df = pd.concat(val_dfs)\n",
    "\n",
    "# modify data to have numbers for artists and style, and create appropriate mappings\n",
    "unique_artists = train_df['artist'].str.upper().unique()\n",
    "unique_styles = train_df['style'].str.upper().unique()\n",
    "\n",
    "artist_l = {val: idx for (idx, val) in enumerate(unique_artists)}\n",
    "# style_l = {val: idx for (idx, val) in enumerate(unique_styles)}\n",
    "\n",
    "artist_labels = {idx: val for (idx, val) in enumerate(unique_artists)}\n",
    "# style_labels = {idx: val for (idx, val) in enumerate(unique_styles)}\n",
    "\n",
    "train_df['artist_label'] = np.array([artist_l[a] for a in train_df['artist'].str.upper().values])\n",
    "# train_df['style_label'] = np.array([style_l[a] for a in train_df['style'].str.upper().values])\n",
    "\n",
    "val_df['artist_label'] = np.array([artist_l[a] for a in val_df['artist'].str.upper().values])\n",
    "# val_df['style_label'] = np.array([style_l[a] for a in val_df['style'].str.upper().values])\n",
    "\n",
    "print(train_df.shape)\n",
    "print(val_df.shape)\n",
    "print(\"Done\")"
   ]
  },
  {
   "cell_type": "code",
   "execution_count": 6,
   "metadata": {
    "collapsed": false
   },
   "outputs": [
    {
     "name": "stdout",
     "output_type": "stream",
     "text": [
      "Done\n"
     ]
    }
   ],
   "source": [
    "train_tensors = []\n",
    "val_tensors = []\n",
    "\n",
    "# load in imags with cv2, then convert to matrices that work with pytorch\n",
    "train_transform = T.Compose([\n",
    "        T.ToPILImage(),\n",
    "        T.RandomSizedCrop(224),\n",
    "        T.RandomHorizontalFlip(),\n",
    "        T.ToTensor(),\n",
    "        T.Normalize([0.485, 0.456, 0.406], [0.229, 0.224, 0.225])\n",
    "    ])\n",
    "val_transform = T.Compose([\n",
    "        T.ToPILImage(),\n",
    "        T.Scale(256),\n",
    "        T.CenterCrop(224),\n",
    "        T.ToTensor(),\n",
    "        T.Normalize([0.485, 0.456, 0.406], [0.229, 0.224, 0.225])\n",
    "    ])\n",
    "\n",
    "for i in train_df['new_filename']:\n",
    "    img = cv2.imread(img_folder + i)\n",
    "    img_tensor = train_transform(img)\n",
    "    train_tensors.append(img_tensor)\n",
    "\n",
    "for i in val_df['new_filename']:\n",
    "    img = cv2.imread(img_folder + i)\n",
    "    img_tensor = val_transform(img)\n",
    "    val_tensors.append(img_tensor)\n",
    "    \n",
    "train_tensors = torch.stack(train_tensors)\n",
    "val_tensors = torch.stack(val_tensors)\n",
    "\n",
    "# create DataLoaders\n",
    "train_labels = torch.Tensor(train_df['artist_label'].values.astype(np.float32)).type(dtype)\n",
    "val_labels = torch.Tensor(val_df['artist_label'].values.astype(np.float32)).type(dtype)\n",
    "\n",
    "train_dset = TensorDataset(train_tensors, train_labels)\n",
    "loader_train = DataLoader(train_dset, batch_size=b_size, shuffle=True)\n",
    "    \n",
    "val_dset = TensorDataset(val_tensors, val_labels)\n",
    "loader_val = DataLoader(val_dset, batch_size=b_size, shuffle=True)\n",
    "\n",
    "print(\"Done\")"
   ]
  },
  {
   "cell_type": "code",
   "execution_count": 7,
   "metadata": {
    "collapsed": true
   },
   "outputs": [],
   "source": [
    "# Create a simple network to use as a baseline\n",
    "\n",
    "simple_model = nn.Sequential(\n",
    "    nn.Conv2d(3, 32, kernel_size=3, stride=2, padding=1), # -> 112\n",
    "    nn.ReLU(inplace=True),\n",
    "    nn.BatchNorm2d(32),\n",
    "    nn.MaxPool2d(2), # -> 56\n",
    "    nn.Conv2d(32, 32, kernel_size=3, stride=2, padding=1), # -> 28\n",
    "    nn.ReLU(inplace=True),\n",
    "    nn.BatchNorm2d(32),\n",
    "    nn.MaxPool2d(2), # -> 14\n",
    "    Flatten(),\n",
    "    nn.Linear(6272, 200),\n",
    "    nn.ReLU(inplace=True),\n",
    "    nn.Linear(200, num_artists),\n",
    ")\n",
    "\n",
    "simple_model.type(dtype)\n",
    "loss_fn = nn.CrossEntropyLoss().type(dtype)\n",
    "optimizer = optim.Adam(simple_model.parameters(), lr=1e-2)\n",
    "optimizer2 = optim.Adam(simple_model.parameters(), lr=1e-3)"
   ]
  },
  {
   "cell_type": "code",
   "execution_count": 8,
   "metadata": {
    "collapsed": false
   },
   "outputs": [
    {
     "data": {
      "text/plain": [
       "True"
      ]
     },
     "execution_count": 8,
     "metadata": {},
     "output_type": "execute_result"
    }
   ],
   "source": [
    "# Now we're going to feed a random batch into the model and make sure the output is the right size\n",
    "x = torch.randn(64, 3, 224, 224).type(dtype)\n",
    "x_var = Variable(x.type(dtype)) # Construct a PyTorch Variable out of your input data\n",
    "ans = simple_model(x_var)        # Feed it through the model! \n",
    "\n",
    "# Check to make sure what comes out of your model\n",
    "# is the right dimensionality... this should be True\n",
    "# if you've done everything correctly\n",
    "np.array_equal(np.array(ans.size()), np.array([64, num_artists]))"
   ]
  },
  {
   "cell_type": "code",
   "execution_count": 45,
   "metadata": {
    "collapsed": false,
    "scrolled": true
   },
   "outputs": [
    {
     "name": "stdout",
     "output_type": "stream",
     "text": [
      "Starting epoch 1 / 5\n",
      "t = 20, loss = 4.9557\n",
      "t = 40, loss = 4.0896\n",
      "t = 60, loss = 3.3497\n",
      "t = 80, loss = 2.8564\n",
      "t = 100, loss = 3.2416\n",
      "t = 120, loss = 2.7173\n",
      "t = 140, loss = 3.8702\n",
      "t = 160, loss = 2.7708\n",
      "t = 180, loss = 3.0521\n",
      "t = 200, loss = 3.7059\n",
      "t = 220, loss = 3.5990\n",
      "t = 240, loss = 2.8221\n",
      "Checking accuracy!\n",
      "Got 192 / 960 correct (20.00)\n",
      "Checking accuracy!\n",
      "Got 26 / 240 correct (10.83)\n",
      "Starting epoch 2 / 5\n",
      "t = 20, loss = 2.9812\n",
      "t = 40, loss = 2.4696\n",
      "t = 60, loss = 2.8336\n",
      "t = 80, loss = 1.7569\n",
      "t = 100, loss = 2.6279\n",
      "t = 120, loss = 2.8451\n",
      "t = 140, loss = 2.8495\n",
      "t = 160, loss = 2.1148\n",
      "t = 180, loss = 2.4690\n",
      "t = 200, loss = 1.6256\n",
      "t = 220, loss = 2.0090\n",
      "t = 240, loss = 2.8049\n",
      "Checking accuracy!\n",
      "Got 356 / 960 correct (37.08)\n",
      "Checking accuracy!\n",
      "Got 37 / 240 correct (15.42)\n",
      "Starting epoch 3 / 5\n",
      "t = 20, loss = 2.7393\n",
      "t = 40, loss = 2.4526\n",
      "t = 60, loss = 1.6103\n",
      "t = 80, loss = 1.2612\n",
      "t = 100, loss = 2.2233\n",
      "t = 120, loss = 3.0755\n",
      "t = 140, loss = 2.1582\n",
      "t = 160, loss = 1.6548\n",
      "t = 180, loss = 2.2962\n",
      "t = 200, loss = 1.8934\n",
      "t = 220, loss = 3.0659\n",
      "t = 240, loss = 1.3173\n",
      "Checking accuracy!\n",
      "Got 512 / 960 correct (53.33)\n",
      "Checking accuracy!\n",
      "Got 44 / 240 correct (18.33)\n",
      "Starting epoch 4 / 5\n",
      "t = 20, loss = 2.2461\n",
      "t = 40, loss = 1.1428\n",
      "t = 60, loss = 2.1836\n",
      "t = 80, loss = 0.8828\n",
      "t = 100, loss = 1.3251\n",
      "t = 120, loss = 1.5142\n",
      "t = 140, loss = 2.7085\n",
      "t = 160, loss = 1.4967\n",
      "t = 180, loss = 1.2948\n",
      "t = 200, loss = 1.2816\n",
      "t = 220, loss = 1.3902\n",
      "t = 240, loss = 1.4673\n",
      "Checking accuracy!\n",
      "Got 722 / 960 correct (75.21)\n",
      "Checking accuracy!\n",
      "Got 44 / 240 correct (18.33)\n",
      "Starting epoch 5 / 5\n",
      "t = 20, loss = 1.4905\n",
      "t = 40, loss = 0.5562\n",
      "t = 60, loss = 0.8062\n",
      "t = 80, loss = 0.7903\n",
      "t = 100, loss = 0.3607\n",
      "t = 120, loss = 1.2183\n",
      "t = 140, loss = 2.0471\n",
      "t = 160, loss = 0.6608\n",
      "t = 180, loss = 1.2522\n",
      "t = 200, loss = 0.5071\n",
      "t = 220, loss = 0.9332\n",
      "t = 240, loss = 2.2562\n",
      "Checking accuracy!\n",
      "Got 834 / 960 correct (86.88)\n",
      "Checking accuracy!\n",
      "Got 46 / 240 correct (19.17)\n"
     ]
    }
   ],
   "source": [
    "# apply my simple network to the dataset\n",
    "reset(simple_model)\n",
    "# train(simple_model, loss_fn, optimizer, loader_train, num_epochs = 5)\n",
    "train_acc_hist1, val_acc_hist1 = train(simple_model, loss_fn, optimizer2, loader_train, loader_val, num_epochs = 5)"
   ]
  },
  {
   "cell_type": "markdown",
   "metadata": {},
   "source": [
    "# Training accuracy over time chart - showing the overfit\n"
   ]
  },
  {
   "cell_type": "code",
   "execution_count": 46,
   "metadata": {
    "collapsed": false
   },
   "outputs": [
    {
     "name": "stdout",
     "output_type": "stream",
     "text": [
      "[20.0, 37.083333333333336, 53.333333333333336, 75.20833333333333, 86.875]\n",
      "[10.833333333333334, 15.416666666666668, 18.333333333333332, 18.333333333333332, 19.166666666666668]\n",
      "[1 2 3 4 5]\n"
     ]
    },
    {
     "data": {
      "image/png": "[encoded data removed]",
      "text/plain": [
       "<matplotlib.figure.Figure at 0x7f0f05fcd908>"
      ]
     },
     "metadata": {},
     "output_type": "display_data"
    }
   ],
   "source": [
    "epochs = np.arange(len(train_acc_hist1)) + 1\n",
    "print(train_acc_hist1)\n",
    "print(val_acc_hist1)\n",
    "print(epochs)\n",
    "\n",
    "# Plot the points using matplotlib\n",
    "plt.plot(epochs, train_acc_hist1)\n",
    "plt.plot(epochs, val_acc_hist1)\n",
    "plt.xlabel('Epoch')\n",
    "plt.ylabel('Accuracy')\n",
    "plt.title('Accuracy over training')\n",
    "plt.legend(['Training', 'Validation'])\n",
    "\n",
    "# y ticks\n",
    "plt.gca().set_ylim(ymin=0, ymax=100)\n",
    "vals = plt.gca().get_yticks()\n",
    "plt.gca().set_yticklabels(['{:.0f}%'.format(x) for x in vals])\n",
    "\n",
    "# x ticks\n",
    "# vals = plt.gca().get_xticks()\n",
    "# plt.gca().set_xticklabels(['{:0.0f}'.format(x) for x in vals])\n",
    "\n",
    "plt.show()"
   ]
  },
  {
   "cell_type": "markdown",
   "metadata": {},
   "source": [
    "# ResNet-18 transfer learning"
   ]
  },
  {
   "cell_type": "code",
   "execution_count": 7,
   "metadata": {
    "collapsed": false
   },
   "outputs": [],
   "source": [
    "import torchvision \n",
    "\n",
    "# transfer learning on top of ResNet18 (only replacing final FC layer)\n",
    "model_conv = torchvision.models.resnet18(pretrained=True)\n",
    "for param in model_conv.parameters():\n",
    "    param.requires_grad = False\n",
    "\n",
    "# Parameters of newly constructed modules have requires_grad=True by default\n",
    "num_ftrs = model_conv.fc.in_features\n",
    "model_conv.fc = nn.Linear(num_ftrs, num_artists)\n",
    "\n",
    "if torch.cuda.is_available():\n",
    "    model_conv = model_conv.cuda()\n",
    "\n",
    "criterion = nn.CrossEntropyLoss()\n",
    "\n",
    "# Observe that only parameters of final layer are being optimized as\n",
    "# opoosed to before.\n",
    "optimizer_conv = optim.SGD(model_conv.fc.parameters(), lr=0.001, momentum=0.9)"
   ]
  },
  {
   "cell_type": "code",
   "execution_count": 34,
   "metadata": {
    "collapsed": false
   },
   "outputs": [
    {
     "name": "stdout",
     "output_type": "stream",
     "text": [
      "Starting epoch 1 / 5\n",
      "t = 20, loss = 3.2663\n",
      "t = 40, loss = 3.2340\n",
      "t = 60, loss = 3.9907\n",
      "t = 80, loss = 3.1426\n",
      "t = 100, loss = 3.2775\n",
      "t = 120, loss = 3.3103\n",
      "t = 140, loss = 3.6301\n",
      "t = 160, loss = 2.4684\n",
      "t = 180, loss = 2.8973\n",
      "t = 200, loss = 3.7173\n",
      "t = 220, loss = 3.5151\n",
      "t = 240, loss = 3.8477\n",
      "Checking accuracy!\n",
      "Got 356 / 960 correct (37.08)\n",
      "Checking accuracy!\n",
      "Got 71 / 240 correct (29.58)\n",
      "Starting epoch 2 / 5\n",
      "t = 20, loss = 2.3827\n",
      "t = 40, loss = 3.0104\n",
      "t = 60, loss = 2.6109\n",
      "t = 80, loss = 2.7113\n",
      "t = 100, loss = 2.4631\n",
      "t = 120, loss = 2.7170\n",
      "t = 140, loss = 2.6917\n",
      "t = 160, loss = 2.0305\n",
      "t = 180, loss = 2.9478\n",
      "t = 200, loss = 2.2687\n",
      "t = 220, loss = 3.5393\n",
      "t = 240, loss = 2.9573\n",
      "Checking accuracy!\n",
      "Got 453 / 960 correct (47.19)\n",
      "Checking accuracy!\n",
      "Got 92 / 240 correct (38.33)\n",
      "Starting epoch 3 / 5\n",
      "t = 20, loss = 2.7413\n",
      "t = 40, loss = 2.4543\n",
      "t = 60, loss = 3.0660\n",
      "t = 80, loss = 1.5771\n",
      "t = 100, loss = 2.0797\n",
      "t = 120, loss = 1.4817\n",
      "t = 140, loss = 2.0807\n",
      "t = 160, loss = 2.1902\n",
      "t = 180, loss = 2.9932\n",
      "t = 200, loss = 1.9107\n",
      "t = 220, loss = 2.7050\n",
      "t = 240, loss = 3.9206\n",
      "Checking accuracy!\n",
      "Got 568 / 960 correct (59.17)\n",
      "Checking accuracy!\n",
      "Got 100 / 240 correct (41.67)\n",
      "Starting epoch 4 / 5\n",
      "t = 20, loss = 1.1737\n",
      "t = 40, loss = 2.5305\n",
      "t = 60, loss = 1.3623\n",
      "t = 80, loss = 1.5376\n",
      "t = 100, loss = 3.0635\n",
      "t = 120, loss = 2.2214\n",
      "t = 140, loss = 1.6061\n",
      "t = 160, loss = 1.7876\n",
      "t = 180, loss = 3.0260\n",
      "t = 200, loss = 3.2335\n",
      "t = 220, loss = 0.9635\n",
      "t = 240, loss = 1.2150\n",
      "Checking accuracy!\n",
      "Got 606 / 960 correct (63.12)\n",
      "Checking accuracy!\n",
      "Got 117 / 240 correct (48.75)\n",
      "Starting epoch 5 / 5\n",
      "t = 20, loss = 2.1186\n",
      "t = 40, loss = 1.6025\n",
      "t = 60, loss = 1.5177\n",
      "t = 80, loss = 2.2436\n",
      "t = 100, loss = 1.0623\n",
      "t = 120, loss = 2.1074\n",
      "t = 140, loss = 1.7911\n",
      "t = 160, loss = 2.6654\n",
      "t = 180, loss = 1.7025\n",
      "t = 200, loss = 1.4457\n",
      "t = 220, loss = 2.4060\n",
      "t = 240, loss = 2.0340\n",
      "Checking accuracy!\n",
      "Got 628 / 960 correct (65.42)\n",
      "Checking accuracy!\n",
      "Got 122 / 240 correct (50.83)\n"
     ]
    }
   ],
   "source": [
    "train_acc_hist, val_acc_hist = train(model_conv, loss_fn, optimizer_conv, loader_train, loader_val, num_epochs = 5)"
   ]
  },
  {
   "cell_type": "code",
   "execution_count": 39,
   "metadata": {
    "collapsed": false
   },
   "outputs": [
    {
     "name": "stdout",
     "output_type": "stream",
     "text": [
      "[37.083333333333336, 47.1875, 59.166666666666664, 63.125, 65.41666666666667]\n",
      "[29.583333333333332, 38.333333333333336, 41.66666666666667, 48.75, 50.83333333333333]\n",
      "[1 2 3 4 5]\n"
     ]
    },
    {
     "data": {
      "image/png": "[encoded data removed]",
      "text/plain": [
       "<matplotlib.figure.Figure at 0x7f0e99df12b0>"
      ]
     },
     "metadata": {},
     "output_type": "display_data"
    }
   ],
   "source": [
    "epochs = np.arange(len(train_acc_hist)) + 1\n",
    "print(train_acc_hist)\n",
    "print(val_acc_hist)\n",
    "print(epochs)\n",
    "\n",
    "# Plot the points using matplotlib\n",
    "plt.plot(epochs, train_acc_hist)\n",
    "plt.plot(epochs, val_acc_hist)\n",
    "plt.xlabel('Epoch')\n",
    "plt.ylabel('Accuracy')\n",
    "plt.title('Accuracy over training')\n",
    "plt.legend(['Training', 'Validation'])\n",
    "\n",
    "# y ticks\n",
    "plt.gca().set_ylim(ymin=0, ymax=100)\n",
    "vals = plt.gca().get_yticks()\n",
    "plt.gca().set_yticklabels(['{:.0f}%'.format(x) for x in vals])\n",
    "\n",
    "# x ticks\n",
    "# vals = plt.gca().get_xticks()\n",
    "# plt.gca().set_xticklabels(['{:0.0f}'.format(x) for x in vals])\n",
    "\n",
    "plt.show()"
   ]
  },
  {
   "cell_type": "code",
   "execution_count": 86,
   "metadata": {
    "collapsed": false
   },
   "outputs": [],
   "source": [
    "import painting_loader"
   ]
  },
  {
   "cell_type": "code",
   "execution_count": 87,
   "metadata": {
    "collapsed": false,
    "scrolled": false
   },
   "outputs": [
    {
     "name": "stdout",
     "output_type": "stream",
     "text": [
      "['IVAN SHISHKIN' 'IVAN AIVAZOVSKY' 'ILYA REPIN' 'PABLO PICASSO'\n",
      " 'JOHN SINGER SARGENT' 'ZDISLAV BEKSINSKI' 'PIERRE-AUGUSTE RENOIR'\n",
      " 'ALBRECHT DURER' 'MARC CHAGALL' 'GUSTAVE DORE'\n",
      " 'GIOVANNI BATTISTA PIRANESI' 'REMBRANDT']\n",
      "{'IVAN SHISHKIN': 0, 'ILYA REPIN': 2, 'ALBRECHT DURER': 7, 'PIERRE-AUGUSTE RENOIR': 6, 'GIOVANNI BATTISTA PIRANESI': 10, 'GUSTAVE DORE': 9, 'MARC CHAGALL': 8, 'PABLO PICASSO': 3, 'JOHN SINGER SARGENT': 4, 'IVAN AIVAZOVSKY': 1, 'REMBRANDT': 11, 'ZDISLAV BEKSINSKI': 5}\n"
     ]
    },
    {
     "ename": "TypeError",
     "evalue": "'NoneType' object is not iterable",
     "output_type": "error",
     "traceback": [
      "\u001b[0;31m---------------------------------------------------------------------------\u001b[0m",
      "\u001b[0;31mTypeError\u001b[0m                                 Traceback (most recent call last)",
      "\u001b[0;32m<ipython-input-87-9498d460bfd2>\u001b[0m in \u001b[0;36m<module>\u001b[0;34m()\u001b[0m\n\u001b[0;32m----> 1\u001b[0;31m \u001b[0mx\u001b[0m \u001b[0;34m=\u001b[0m \u001b[0mPaintingFolder\u001b[0m\u001b[0;34m(\u001b[0m\u001b[0;32mNone\u001b[0m\u001b[0;34m,\u001b[0m \u001b[0mdf\u001b[0m\u001b[0;34m=\u001b[0m\u001b[0mtrain_df\u001b[0m\u001b[0;34m)\u001b[0m\u001b[0;34m\u001b[0m\u001b[0m\n\u001b[0m",
      "\u001b[0;32m/home/Nitin/project/cs231n-final/loader.py\u001b[0m in \u001b[0;36m__init__\u001b[0;34m(self, root, transform, target_transform, loader, df)\u001b[0m\n",
      "\u001b[0;31mTypeError\u001b[0m: 'NoneType' object is not iterable"
     ]
    }
   ],
   "source": [
    "x = PaintingFolder(None, df=train_df)"
   ]
  },
  {
   "cell_type": "code",
   "execution_count": null,
   "metadata": {
    "collapsed": true
   },
   "outputs": [],
   "source": []
  }
 ],
 "metadata": {
  "kernelspec": {
   "display_name": "Python 3",
   "language": "python",
   "name": "python3"
  },
  "language_info": {
   "codemirror_mode": {
    "name": "ipython",
    "version": 3
   },
   "file_extension": ".py",
   "mimetype": "text/x-python",
   "name": "python",
   "nbconvert_exporter": "python",
   "pygments_lexer": "ipython3",
   "version": "3.5.2"
  }
 },
 "nbformat": 4,
 "nbformat_minor": 0
}
