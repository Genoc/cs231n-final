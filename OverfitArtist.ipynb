{
 "cells": [
  {
   "cell_type": "markdown",
   "metadata": {},
   "source": [
    "# Pull a small set of data and overfit on it"
   ]
  },
  {
   "cell_type": "code",
   "execution_count": 1,
   "metadata": {
    "collapsed": false
   },
   "outputs": [],
   "source": [
    "import torch\n",
    "import torch.nn as nn\n",
    "import torch.optim as optim\n",
    "from torch.autograd import Variable\n",
    "from torch.utils.data import DataLoader\n",
    "from torch.utils.data import sampler\n",
    "\n",
    "import torchvision.datasets as dset\n",
    "import torchvision.models as models\n",
    "import torchvision.transforms as T\n",
    "\n",
    "import numpy as np\n",
    "import timeit\n",
    "\n",
    "# Return dataloaders for train, test, and val\n",
    "def load_images(train_df, test_df, val_df, hasTest=True):\n",
    "    loader_train = None\n",
    "    loader_test = None\n",
    "    loader_val = None\n",
    "    \n",
    "    # load the image files and store as 3-channel tensors\n",
    "    \n",
    "    \n",
    "    # create the dataloaders\n",
    "    train = data_utils.TensorDataset(X, y)\n",
    "    loader_train = DataLoader(train, batch_size=64, shuffle=True)\n",
    "\n",
    "    if hasTest:\n",
    "        test = data_utils.TensorDataset(X, y)\n",
    "        loader_test = DataLoader(test, batch_size=64, shuffle=True)\n",
    "    \n",
    "    val = data_utils.TensorDataset(X, y)\n",
    "    loader_val = DataLoader(val, batch_size=64, shuffle=True)    \n",
    "    \n",
    "    return [loader_train, load_test, loader_val]\n",
    "\n",
    "\n",
    "class Flatten(nn.Module):\n",
    "    def forward(self, x):\n",
    "        N, C, H, W = x.size() # read in N, C, H, W\n",
    "        return x.view(N, -1)  # \"flatten\" the C * H * W values into a single vector per image\n",
    "\n",
    "dtype = torch.FloatTensor\n",
    "gpu_dtype = dtype # temporary\n",
    "print_every = 20\n",
    "\n",
    "def reset(m):\n",
    "    if hasattr(m, 'reset_parameters'):\n",
    "        m.reset_parameters()\n",
    "\n",
    "def train(model, loss_fn, optimizer, loader_train, num_epochs = 1):\n",
    "    for epoch in range(num_epochs):\n",
    "        print('Starting epoch %d / %d' % (epoch + 1, num_epochs))\n",
    "        model.train()\n",
    "        for t, (x, y) in enumerate(loader_train):\n",
    "            x_var = Variable(x.type(gpu_dtype))\n",
    "            y_var = Variable(y.type(gpu_dtype).long())\n",
    "            scores = model(x_var)\n",
    "            loss = loss_fn(scores, y_var)\n",
    "            if (t + 1) % print_every == 0:\n",
    "                print('t = %d, loss = %.4f' % (t + 1, loss.data[0]))\n",
    "            optimizer.zero_grad()\n",
    "            loss.backward()\n",
    "            optimizer.step()\n",
    "    \n",
    "def check_accuracy(model, loader):\n",
    "    print('Checking accuracy!')\n",
    "    num_correct = 0\n",
    "    num_samples = 0\n",
    "    model.eval() # Put the model in test mode (the opposite of model.train(), essentially)\n",
    "    for x, y in loader:\n",
    "        y = y.view(-1, 1).type(torch.LongTensor)\n",
    "        x_var = Variable(x.type(gpu_dtype), volatile=True)\n",
    "        scores = model(x_var)\n",
    "        _, preds = scores.data.cpu().max(1)\n",
    "        \n",
    "        num_correct += (preds == y).sum()\n",
    "        num_samples += preds.size(0)\n",
    "    acc = float(num_correct) / num_samples\n",
    "    print('Got %d / %d correct (%.2f)' % (num_correct, num_samples, 100 * acc))"
   ]
  },
  {
   "cell_type": "markdown",
   "metadata": {},
   "source": [
    "# Prep the data"
   ]
  },
  {
   "cell_type": "code",
   "execution_count": 2,
   "metadata": {
    "collapsed": false
   },
   "outputs": [
    {
     "data": {
      "text/html": [
       "<div>\n",
       "<style>\n",
       "    .dataframe thead tr:only-child th {\n",
       "        text-align: right;\n",
       "    }\n",
       "\n",
       "    .dataframe thead th {\n",
       "        text-align: left;\n",
       "    }\n",
       "\n",
       "    .dataframe tbody tr th {\n",
       "        vertical-align: top;\n",
       "    }\n",
       "</style>\n",
       "<table border=\"1\" class=\"dataframe\">\n",
       "  <thead>\n",
       "    <tr style=\"text-align: right;\">\n",
       "      <th></th>\n",
       "      <th>artist</th>\n",
       "      <th>date</th>\n",
       "      <th>genre</th>\n",
       "      <th>pixelsx</th>\n",
       "      <th>pixelsy</th>\n",
       "      <th>size_bytes</th>\n",
       "      <th>source</th>\n",
       "      <th>style</th>\n",
       "      <th>title</th>\n",
       "      <th>artist_group</th>\n",
       "      <th>in_train</th>\n",
       "      <th>new_filename</th>\n",
       "    </tr>\n",
       "  </thead>\n",
       "  <tbody>\n",
       "    <tr>\n",
       "      <th>0</th>\n",
       "      <td>Barnett Newman</td>\n",
       "      <td>1955.0</td>\n",
       "      <td>abstract</td>\n",
       "      <td>15530.0</td>\n",
       "      <td>6911.0</td>\n",
       "      <td>9201912.0</td>\n",
       "      <td>wikiart</td>\n",
       "      <td>Color Field Painting</td>\n",
       "      <td>Uriel</td>\n",
       "      <td>train_only</td>\n",
       "      <td>True</td>\n",
       "      <td>102257.jpg</td>\n",
       "    </tr>\n",
       "    <tr>\n",
       "      <th>1</th>\n",
       "      <td>Barnett Newman</td>\n",
       "      <td>1950.0</td>\n",
       "      <td>abstract</td>\n",
       "      <td>14559.0</td>\n",
       "      <td>6866.0</td>\n",
       "      <td>8867532.0</td>\n",
       "      <td>wikiart</td>\n",
       "      <td>Color Field Painting</td>\n",
       "      <td>Vir Heroicus Sublimis</td>\n",
       "      <td>train_only</td>\n",
       "      <td>True</td>\n",
       "      <td>75232.jpg</td>\n",
       "    </tr>\n",
       "    <tr>\n",
       "      <th>2</th>\n",
       "      <td>kiri nichol</td>\n",
       "      <td>2013.0</td>\n",
       "      <td>NaN</td>\n",
       "      <td>9003.0</td>\n",
       "      <td>9004.0</td>\n",
       "      <td>1756681.0</td>\n",
       "      <td>NaN</td>\n",
       "      <td>Neoplasticism</td>\n",
       "      <td>NaN</td>\n",
       "      <td>test_only</td>\n",
       "      <td>False</td>\n",
       "      <td>32145.jpg</td>\n",
       "    </tr>\n",
       "    <tr>\n",
       "      <th>3</th>\n",
       "      <td>kiri nichol</td>\n",
       "      <td>2013.0</td>\n",
       "      <td>NaN</td>\n",
       "      <td>9003.0</td>\n",
       "      <td>9004.0</td>\n",
       "      <td>1942046.0</td>\n",
       "      <td>NaN</td>\n",
       "      <td>Neoplasticism</td>\n",
       "      <td>NaN</td>\n",
       "      <td>test_only</td>\n",
       "      <td>False</td>\n",
       "      <td>20304.jpg</td>\n",
       "    </tr>\n",
       "    <tr>\n",
       "      <th>4</th>\n",
       "      <td>kiri nichol</td>\n",
       "      <td>2013.0</td>\n",
       "      <td>NaN</td>\n",
       "      <td>9003.0</td>\n",
       "      <td>9004.0</td>\n",
       "      <td>1526212.0</td>\n",
       "      <td>NaN</td>\n",
       "      <td>Neoplasticism</td>\n",
       "      <td>NaN</td>\n",
       "      <td>test_only</td>\n",
       "      <td>False</td>\n",
       "      <td>836.jpg</td>\n",
       "    </tr>\n",
       "  </tbody>\n",
       "</table>\n",
       "</div>"
      ],
      "text/plain": [
       "           artist    date     genre  pixelsx  pixelsy  size_bytes   source  \\\n",
       "0  Barnett Newman  1955.0  abstract  15530.0   6911.0   9201912.0  wikiart   \n",
       "1  Barnett Newman  1950.0  abstract  14559.0   6866.0   8867532.0  wikiart   \n",
       "2     kiri nichol  2013.0       NaN   9003.0   9004.0   1756681.0      NaN   \n",
       "3     kiri nichol  2013.0       NaN   9003.0   9004.0   1942046.0      NaN   \n",
       "4     kiri nichol  2013.0       NaN   9003.0   9004.0   1526212.0      NaN   \n",
       "\n",
       "                  style                  title artist_group  in_train  \\\n",
       "0  Color Field Painting                  Uriel   train_only      True   \n",
       "1  Color Field Painting  Vir Heroicus Sublimis   train_only      True   \n",
       "2         Neoplasticism                    NaN    test_only     False   \n",
       "3         Neoplasticism                    NaN    test_only     False   \n",
       "4         Neoplasticism                    NaN    test_only     False   \n",
       "\n",
       "  new_filename  \n",
       "0   102257.jpg  \n",
       "1    75232.jpg  \n",
       "2    32145.jpg  \n",
       "3    20304.jpg  \n",
       "4      836.jpg  "
      ]
     },
     "execution_count": 2,
     "metadata": {},
     "output_type": "execute_result"
    }
   ],
   "source": [
    "import numpy as np\n",
    "import pandas as pd\n",
    "import matplotlib.pyplot as plt\n",
    "%matplotlib inline\n",
    "from PIL import Image, ImageFilter\n",
    "import random\n",
    "import cv2\n",
    "import os, glob\n",
    "\n",
    "t = pd.read_csv('../data/all_data_info.csv'); t.head()"
   ]
  },
  {
   "cell_type": "code",
   "execution_count": 3,
   "metadata": {
    "collapsed": false
   },
   "outputs": [
    {
     "name": "stdout",
     "output_type": "stream",
     "text": [
      "(80, 12)\n",
      "(20, 12)\n"
     ]
    }
   ],
   "source": [
    "# filter down to just the first set of training data\n",
    "train_1 = t[t['new_filename'].str.startswith('1')]\n",
    "train_1 = train_1[train_1['in_train']]\n",
    "\n",
    "# print(train_1.shape)\n",
    "\n",
    "# pull a random sample of 200 impressionsim and 200 realism paintings\n",
    "df1 = train_1[train_1['artist'].str.startswith('Albrecht Durer', na=False)].sample(n=50)\n",
    "df2 = train_1[train_1['artist'].str.startswith('Claude Monet', na=False)].sample(n=50)\n",
    "\n",
    "# split data into train and val\n",
    "train_df1 = df1.sample(n=40)\n",
    "train_df2 = df2.sample(n=40)\n",
    "\n",
    "val_df1 = df1.loc[~df1.index.isin(train_df1.index)]\n",
    "val_df2 = df2.loc[~df2.index.isin(train_df2.index)]\n",
    "\n",
    "# print(val_df1.shape)\n",
    "# print(train_df1.shape)\n",
    "\n",
    "train_df = pd.concat([train_df1, train_df2])\n",
    "val_df = pd.concat([val_df1, val_df2])\n",
    "\n",
    "print(train_df.shape)\n",
    "print(val_df.shape)\n",
    "\n",
    "# modify data to have numbers for artists and style, and create appropriate mappings\n",
    "unique_artists = train_df['artist'].str.upper().unique()\n",
    "unique_styles = train_df['style'].str.upper().unique()\n",
    "\n",
    "artist_l = {val: idx for (idx, val) in enumerate(unique_artists)}\n",
    "style_l = {val: idx for (idx, val) in enumerate(unique_styles)}\n",
    "\n",
    "artist_labels = {idx: val for (idx, val) in enumerate(unique_artists)}\n",
    "style_labels = {idx: val for (idx, val) in enumerate(unique_styles)}\n",
    "\n",
    "train_df['artist_label'] = np.array([artist_l[a] for a in train_df['artist'].str.upper().values])\n",
    "train_df['style_label'] = np.array([style_l[a] for a in train_df['style'].str.upper().values])\n",
    "\n",
    "val_df['artist_label'] = np.array([artist_l[a] for a in val_df['artist'].str.upper().values])\n",
    "val_df['style_label'] = np.array([style_l[a] for a in val_df['style'].str.upper().values])"
   ]
  },
  {
   "cell_type": "code",
   "execution_count": 6,
   "metadata": {
    "collapsed": false
   },
   "outputs": [
    {
     "name": "stdout",
     "output_type": "stream",
     "text": [
      "['ALBRECHT DURER' 'CLAUDE MONET']\n",
      "ALBRECHT DURER\n",
      "CLAUDE MONET\n"
     ]
    },
    {
     "data": {
      "text/plain": [
       "<matplotlib.figure.Figure at 0x7f7139e474a8>"
      ]
     },
     "metadata": {},
     "output_type": "display_data"
    }
   ],
   "source": [
    "import numpy as np\n",
    "import pandas as pd\n",
    "import matplotlib.pyplot as plt\n",
    "%matplotlib inline\n",
    "from PIL import Image, ImageFilter\n",
    "import random\n",
    "import cv2\n",
    "import os, glob\n",
    "\n",
    "# Display a few images by the artists\n",
    "\n",
    "artists = unique_artists\n",
    "print(artists)\n",
    "\n",
    "i_ = 1\n",
    "plt.rcParams['figure.figsize'] = (10.0, 10.0)\n",
    "plt.subplots_adjust(wspace=0, hspace=0)\n",
    "for a in artists:\n",
    "    print(a)\n",
    "    artist_df = train_df[train_df['artist'].str.startswith(a)]\n",
    "    imgs = []\n",
    "    for file in artist_df['new_filename']:\n",
    "        imgs.append(cv2.resize(cv2.imread(img_folder + file), (50,50)))\n",
    "    for img in imgs[10:20]:\n",
    "        plt.subplot(len(artists), 10, i_)\n",
    "        plt.imshow(cv2.cvtColor(img, cv2.COLOR_BGR2RGB)); plt.axis('off')\n",
    "        i_ += 1"
   ]
  },
  {
   "cell_type": "code",
   "execution_count": 72,
   "metadata": {
    "collapsed": false
   },
   "outputs": [],
   "source": [
    "import torch\n",
    "import torch.nn as nn\n",
    "import torch.optim as optim\n",
    "from torch.autograd import Variable\n",
    "from torch.utils.data import DataLoader\n",
    "from torch.utils.data import sampler\n",
    "from torch.utils.data import TensorDataset\n",
    "\n",
    "import torchvision.datasets as dset\n",
    "import torchvision.models as models\n",
    "import torchvision.transforms as T\n",
    "\n",
    "train_tensors = []\n",
    "val_tensors = []\n",
    "\n",
    "# load in imags with cv2, then convert to matrices that work with pytorch\n",
    "train_transform = T.Compose([\n",
    "        T.ToPILImage(),\n",
    "        T.RandomSizedCrop(224),\n",
    "        T.RandomHorizontalFlip(),\n",
    "        T.ToTensor(),\n",
    "        T.Normalize([0.485, 0.456, 0.406], [0.229, 0.224, 0.225])\n",
    "    ])\n",
    "val_transform = T.Compose([\n",
    "        T.ToPILImage(),\n",
    "        T.Scale(256),\n",
    "        T.CenterCrop(224),\n",
    "        T.ToTensor(),\n",
    "        T.Normalize([0.485, 0.456, 0.406], [0.229, 0.224, 0.225])\n",
    "    ])\n",
    "\n",
    "for i in train_df['new_filename']:\n",
    "    # print('../data/train_1/' + i)\n",
    "    img = cv2.imread('../data/train_1/' + i)\n",
    "    \n",
    "    # transforms and make a Tensor\n",
    "    img_tensor = train_transform(img)\n",
    "    train_tensors.append(img_tensor)\n",
    "\n",
    "for i in val_df['new_filename']:\n",
    "    img = cv2.imread('../data/train_1/' + i)\n",
    "    \n",
    "    # transforms and make a Tensor\n",
    "    img_tensor = val_transform(img)\n",
    "    val_tensors.append(img_tensor)\n",
    "    \n",
    "train_tensors = torch.stack(train_tensors)\n",
    "val_tensors = torch.stack(val_tensors)\n",
    "\n",
    "# create DataLoaders\n",
    "train_labels = torch.Tensor(train_df['artist_label'].values.astype(np.float32))\n",
    "val_labels = torch.Tensor(val_df['artist_label'].values.astype(np.float32))\n",
    "\n",
    "train_dset = TensorDataset(train_tensors, train_labels)\n",
    "loader_train = DataLoader(train_dset, batch_size=4, shuffle=True)\n",
    "    \n",
    "val_dset = TensorDataset(val_tensors, val_labels)\n",
    "loader_val = DataLoader(val_dset, batch_size=4, shuffle=True)"
   ]
  },
  {
   "cell_type": "code",
   "execution_count": 73,
   "metadata": {
    "collapsed": true
   },
   "outputs": [],
   "source": [
    "# Create a simple network on our simplified dataset - should overfit it\n",
    "\n",
    "simple_model = nn.Sequential(\n",
    "    nn.Conv2d(3, 32, kernel_size=3, stride=2, padding=1), # -> 112\n",
    "    nn.ReLU(inplace=True),\n",
    "    nn.BatchNorm2d(32),\n",
    "    nn.MaxPool2d(2), # -> 56\n",
    "    nn.Conv2d(32, 32, kernel_size=3, stride=2, padding=1), # -> 28\n",
    "    nn.ReLU(inplace=True),\n",
    "    nn.BatchNorm2d(32),\n",
    "    nn.MaxPool2d(2), # -> 14\n",
    "    Flatten(),\n",
    "    nn.Linear(6272, 100),\n",
    "    nn.ReLU(inplace=True),\n",
    "    nn.Linear(100, 2),\n",
    ")\n",
    "\n",
    "simple_model.type(dtype)\n",
    "loss_fn = nn.CrossEntropyLoss().type(dtype)\n",
    "optimizer = optim.Adam(simple_model.parameters(), lr=1e-2)"
   ]
  },
  {
   "cell_type": "code",
   "execution_count": 39,
   "metadata": {
    "collapsed": false
   },
   "outputs": [
    {
     "data": {
      "text/plain": [
       "True"
      ]
     },
     "execution_count": 39,
     "metadata": {},
     "output_type": "execute_result"
    }
   ],
   "source": [
    "# Now we're going to feed a random batch into the model and make sure the output is the right size\n",
    "x = torch.randn(64, 3, 224, 224).type(dtype)\n",
    "x_var = Variable(x.type(gpu_dtype)) # Construct a PyTorch Variable out of your input data\n",
    "ans = simple_model(x_var)        # Feed it through the model! \n",
    "\n",
    "# Check to make sure what comes out of your model\n",
    "# is the right dimensionality... this should be True\n",
    "# if you've done everything correctly\n",
    "np.array_equal(np.array(ans.size()), np.array([64, 2]))"
   ]
  },
  {
   "cell_type": "code",
   "execution_count": 68,
   "metadata": {
    "collapsed": false
   },
   "outputs": [
    {
     "name": "stdout",
     "output_type": "stream",
     "text": [
      "Starting epoch 1 / 5\n",
      "t = 20, loss = 0.0001\n",
      "Starting epoch 2 / 5\n",
      "t = 20, loss = 0.0000\n",
      "Starting epoch 3 / 5\n",
      "t = 20, loss = 0.0046\n",
      "Starting epoch 4 / 5\n",
      "t = 20, loss = 0.0005\n",
      "Starting epoch 5 / 5\n",
      "t = 20, loss = 0.0000\n",
      "Checking accuracy!\n",
      "Got 76 / 80 correct (95.00)\n"
     ]
    }
   ],
   "source": [
    "# apply my simple network to the dataset\n",
    "# reset(simple_model)\n",
    "train(simple_model, loss_fn, optimizer, loader_train, num_epochs = 5)\n",
    "\n",
    "check_accuracy(simple_model, loader_train)"
   ]
  },
  {
   "cell_type": "code",
   "execution_count": null,
   "metadata": {
    "collapsed": true
   },
   "outputs": [],
   "source": []
  }
 ],
 "metadata": {
  "kernelspec": {
   "display_name": "Python 3",
   "language": "python",
   "name": "python3"
  },
  "language_info": {
   "codemirror_mode": {
    "name": "ipython",
    "version": 3
   },
   "file_extension": ".py",
   "mimetype": "text/x-python",
   "name": "python",
   "nbconvert_exporter": "python",
   "pygments_lexer": "ipython3",
   "version": "3.5.2"
  }
 },
 "nbformat": 4,
 "nbformat_minor": 0
}
